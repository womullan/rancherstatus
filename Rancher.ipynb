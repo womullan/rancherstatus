{
 "cells": [
  {
   "cell_type": "markdown",
   "id": "bf1737e3-5573-416e-afb9-b10509f3c7d8",
   "metadata": {
    "tags": []
   },
   "source": [
    "# Access rancher info \n",
    "\n",
    "  pip install git+https://github.com/rancher/client-python.git@master\n",
    "  \n",
    "get credentials from Rancher click on avatar select API Keys \n",
    "Create a new API key\n",
    "put bearer_token in secrets.json\n",
    "\n",
    "### secrets.son file should look like \n",
    "{\n",
    "    \"access_key\": \"token-fq..\",\n",
    "    \"secret_key\": \"ihg9x...\",\n",
    "    \"bearer_token\": \"token-fq....ih....\"\n",
    "}"
   ]
  },
  {
   "cell_type": "code",
   "execution_count": 115,
   "id": "aa244850-eba3-4744-b93b-5d48a05b5339",
   "metadata": {
    "execution": {
     "iopub.execute_input": "2022-12-19T17:46:34.869694Z",
     "iopub.status.busy": "2022-12-19T17:46:34.869425Z",
     "iopub.status.idle": "2022-12-19T17:46:34.873350Z",
     "shell.execute_reply": "2022-12-19T17:46:34.872705Z",
     "shell.execute_reply.started": "2022-12-19T17:46:34.869676Z"
    },
    "tags": []
   },
   "outputs": [],
   "source": [
    "import os\n",
    "import json\n",
    "from time import time\n",
    "from IPython.display import HTML as html_print\n",
    "\n",
    "\n",
    "filename=os.path.join('secrets.json')\n",
    "secrets={}\n",
    "with open(filename, mode='r') as f:\n",
    "    secrets=json.loads(f.read()) \n",
    "    \n"
   ]
  },
  {
   "cell_type": "code",
   "execution_count": 51,
   "id": "93e9aecc-d436-4a60-81cb-b872a55dedd8",
   "metadata": {
    "execution": {
     "iopub.execute_input": "2022-12-19T15:58:20.205770Z",
     "iopub.status.busy": "2022-12-19T15:58:20.205504Z",
     "iopub.status.idle": "2022-12-19T15:58:22.677155Z",
     "shell.execute_reply": "2022-12-19T15:58:22.676638Z",
     "shell.execute_reply.started": "2022-12-19T15:58:20.205752Z"
    },
    "tags": []
   },
   "outputs": [],
   "source": [
    "import rancher\n",
    "url='https://rancher.cp.lsst.org/v3/'\n",
    "\n",
    "# can not be cluster scoped\n",
    "client = rancher.Client(url=url,token=secrets['bearer_token'])\n"
   ]
  },
  {
   "cell_type": "code",
   "execution_count": 102,
   "id": "fc99b95b-fe2f-4a10-b9d7-709ac6e49eba",
   "metadata": {
    "execution": {
     "iopub.execute_input": "2022-12-19T17:39:04.706184Z",
     "iopub.status.busy": "2022-12-19T17:39:04.705904Z",
     "iopub.status.idle": "2022-12-19T17:39:07.107484Z",
     "shell.execute_reply": "2022-12-19T17:39:07.106949Z",
     "shell.execute_reply.started": "2022-12-19T17:39:04.706162Z"
    },
    "tags": []
   },
   "outputs": [],
   "source": [
    "# this gets the info we need\n",
    "nodes = client.list('node')['data']\n"
   ]
  },
  {
   "cell_type": "code",
   "execution_count": 126,
   "id": "a541dab1-3445-4fc7-9861-059ee608146c",
   "metadata": {
    "execution": {
     "iopub.execute_input": "2022-12-19T18:08:51.661442Z",
     "iopub.status.busy": "2022-12-19T18:08:51.661164Z",
     "iopub.status.idle": "2022-12-19T18:08:51.668659Z",
     "shell.execute_reply": "2022-12-19T18:08:51.668289Z",
     "shell.execute_reply.started": "2022-12-19T18:08:51.661424Z"
    },
    "tags": []
   },
   "outputs": [
    {
     "name": "stdout",
     "output_type": "stream",
     "text": [
      "Oldest heartbeat: yagan03 2022-12-19T17:35:28Z is 33s old ['Fair', 'orange']\n"
     ]
    },
    {
     "data": {
      "text/html": [
       "<text style=color:orange>yagan if Fair</text>"
      ],
      "text/plain": [
       "<IPython.core.display.HTML object>"
      ]
     },
     "execution_count": 126,
     "metadata": {},
     "output_type": "execute_result"
    }
   ],
   "source": [
    "# this builds a simple traffic like status\n",
    "status = -1\n",
    "expect = 10\n",
    "cluster = 'yagan'\n",
    "stat = [['Bad','red'],['Fair','orange'],['Fine','green']]\n",
    "\n",
    "nodes = [ n \n",
    "          for n in nodes if n['hostname'].startswith(cluster)\n",
    "        ] \n",
    "nodes = sorted(nodes, key= lambda n: n.hostname)\n",
    "\n",
    "#print(f\"Have {len(nodes)} nodes of 10 expected.\")\n",
    "if len(nodes) == expect:\n",
    "    status=0\n",
    "\n",
    "times = {}\n",
    "readyc = 0    \n",
    "\n",
    "for i,n in enumerate(nodes):\n",
    "#    print(f\"{i} {n['hostname']} {n['conditions'][3]['lastHeartbeatTime']} {n['conditions'][3]['type']} {n['etcd']} \")\n",
    "    times[n['hostname']] = [n['conditions'][3]['lastHeartbeatTimeTS'], n['conditions'][3]['lastHeartbeatTime']]\n",
    "    if 'Ready' in {n['conditions'][3]['type']}:\n",
    "        readyc = readyc + 1\n",
    "\n",
    "if (readyc == expect):\n",
    "    status = status + 1\n",
    "    \n",
    "times = sorted(times.items(), key=lambda t: t[1])                 \n",
    "now = time()\n",
    "howlong = (int)((now - times[0][1][0]/1000)/60)\n",
    "\n",
    "if howlong < 10 :\n",
    "   status = status + 1\n",
    "\n",
    "print (f\"Oldest heartbeat: {times[0][0]} {times[0][1][1]} is {howlong}s old {stat[status]}\")\n",
    "\n",
    "html_print(f\"<text style=color:{stat[status][1]}>{cluster} if {stat[status][0]}</text>\")\n"
   ]
  }
 ],
 "metadata": {
  "kernelspec": {
   "display_name": "LSST",
   "language": "python",
   "name": "lsst"
  },
  "language_info": {
   "codemirror_mode": {
    "name": "ipython",
    "version": 3
   },
   "file_extension": ".py",
   "mimetype": "text/x-python",
   "name": "python",
   "nbconvert_exporter": "python",
   "pygments_lexer": "ipython3",
   "version": "3.10.6"
  }
 },
 "nbformat": 4,
 "nbformat_minor": 5
}
